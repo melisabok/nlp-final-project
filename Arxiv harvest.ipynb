{
 "cells": [
  {
   "cell_type": "code",
   "execution_count": 2,
   "metadata": {
    "collapsed": false
   },
   "outputs": [],
   "source": [
    "import time\n",
    "import urllib2\n",
    "import datetime\n",
    "from itertools import ifilter\n",
    "from collections import Counter, defaultdict\n",
    "import xml.etree.ElementTree as ET\n",
    "\n",
    "from bs4 import BeautifulSoup\n",
    "import matplotlib.pylab as plt\n",
    "import pandas as pd\n",
    "import numpy as np\n",
    "import bibtexparser"
   ]
  },
  {
   "cell_type": "code",
   "execution_count": 26,
   "metadata": {
    "collapsed": true
   },
   "outputs": [],
   "source": [
    "OAI = \"{http://www.openarchives.org/OAI/2.0/}\"\n",
    "ARXIV = \"{http://arxiv.org/OAI/arXiv/}\"\n",
    "\n",
    "def harvest(arxiv=\"cs\"):\n",
    "    df = pd.DataFrame(columns=(\"title\", \"abstract\", \"categories\", \"created\", \"id\", \"doi\"))\n",
    "    base_url = \"http://export.arxiv.org/oai2?verb=ListRecords&\"\n",
    "    url = (base_url +\n",
    "           \"from=2012-01-01&until=2012-12-31&\" +\n",
    "           \"metadataPrefix=arXiv&set=%s\"%arxiv)\n",
    "    \n",
    "    while True:\n",
    "        print \"fetching\", url\n",
    "        try:\n",
    "            response = urllib2.urlopen(url)\n",
    "            \n",
    "        except urllib2.HTTPError, e:\n",
    "            if e.code == 503:\n",
    "                to = int(e.hdrs.get(\"retry-after\", 30))\n",
    "                print \"Got 503. Retrying after {0:d} seconds.\".format(to)\n",
    "\n",
    "                time.sleep(to)\n",
    "                continue\n",
    "                \n",
    "            else:\n",
    "                raise\n",
    "            \n",
    "        xml = response.read()\n",
    "\n",
    "        root = ET.fromstring(xml)\n",
    "\n",
    "        for record in root.find(OAI+'ListRecords').findall(OAI+\"record\"):\n",
    "            arxiv_id = record.find(OAI+'header').find(OAI+'identifier')\n",
    "            meta = record.find(OAI+'metadata')\n",
    "            info = meta.find(ARXIV+\"arXiv\")\n",
    "            created = info.find(ARXIV+\"created\").text\n",
    "            created = datetime.datetime.strptime(created, \"%Y-%m-%d\")\n",
    "            categories = info.find(ARXIV+\"categories\").text\n",
    "\n",
    "            # if there is more than one DOI use the first one\n",
    "            # often the second one (if it exists at all) refers\n",
    "            # to an eratum or similar\n",
    "            doi = info.find(ARXIV+\"doi\")\n",
    "            if doi is not None:\n",
    "                doi = doi.text.split()[0]\n",
    "                \n",
    "            contents = {'title': info.find(ARXIV+\"title\").text,\n",
    "                        'id': info.find(ARXIV+\"id\").text,#arxiv_id.text[4:],\n",
    "                        'abstract': info.find(ARXIV+\"abstract\").text.strip(),\n",
    "                        'created': created,\n",
    "                        'categories': categories.split(),\n",
    "                        'doi': doi,\n",
    "                        }\n",
    "\n",
    "            df = df.append(contents, ignore_index=True)\n",
    "\n",
    "        # The list of articles returned by the API comes in chunks of\n",
    "        # 1000 articles. The presence of a resumptionToken tells us that\n",
    "        # there is more to be fetched.\n",
    "        token = root.find(OAI+'ListRecords').find(OAI+\"resumptionToken\")\n",
    "        if token is None or token.text is None:\n",
    "            break\n",
    "\n",
    "        else:\n",
    "            url = base_url + \"resumptionToken=%s\"%(token.text)\n",
    "            \n",
    "    return df"
   ]
  },
  {
   "cell_type": "code",
   "execution_count": 27,
   "metadata": {
    "collapsed": false
   },
   "outputs": [
    {
     "name": "stdout",
     "output_type": "stream",
     "text": [
      "fetching http://export.arxiv.org/oai2?verb=ListRecords&from=2012-01-01&until=2012-12-31&metadataPrefix=arXiv&set=cs\n",
      "fetching http://export.arxiv.org/oai2?verb=ListRecords&resumptionToken=1430452|1001\n",
      "Got 503. Retrying after 20 seconds.\n",
      "fetching http://export.arxiv.org/oai2?verb=ListRecords&resumptionToken=1430452|1001\n",
      "fetching http://export.arxiv.org/oai2?verb=ListRecords&resumptionToken=1430452|2001\n",
      "Got 503. Retrying after 20 seconds.\n",
      "fetching http://export.arxiv.org/oai2?verb=ListRecords&resumptionToken=1430452|2001\n",
      "fetching http://export.arxiv.org/oai2?verb=ListRecords&resumptionToken=1430452|3001\n",
      "Got 503. Retrying after 20 seconds.\n",
      "fetching http://export.arxiv.org/oai2?verb=ListRecords&resumptionToken=1430452|3001\n",
      "fetching http://export.arxiv.org/oai2?verb=ListRecords&resumptionToken=1430452|4001\n",
      "Got 503. Retrying after 20 seconds.\n",
      "fetching http://export.arxiv.org/oai2?verb=ListRecords&resumptionToken=1430452|4001\n",
      "fetching http://export.arxiv.org/oai2?verb=ListRecords&resumptionToken=1430452|5001\n",
      "Got 503. Retrying after 20 seconds.\n",
      "fetching http://export.arxiv.org/oai2?verb=ListRecords&resumptionToken=1430452|5001\n",
      "fetching http://export.arxiv.org/oai2?verb=ListRecords&resumptionToken=1430452|6001\n",
      "Got 503. Retrying after 20 seconds.\n",
      "fetching http://export.arxiv.org/oai2?verb=ListRecords&resumptionToken=1430452|6001\n",
      "fetching http://export.arxiv.org/oai2?verb=ListRecords&resumptionToken=1430452|7001\n",
      "Got 503. Retrying after 20 seconds.\n",
      "fetching http://export.arxiv.org/oai2?verb=ListRecords&resumptionToken=1430452|7001\n",
      "fetching http://export.arxiv.org/oai2?verb=ListRecords&resumptionToken=1430452|8001\n",
      "Got 503. Retrying after 20 seconds.\n",
      "fetching http://export.arxiv.org/oai2?verb=ListRecords&resumptionToken=1430452|8001\n",
      "fetching http://export.arxiv.org/oai2?verb=ListRecords&resumptionToken=1430452|9001\n",
      "Got 503. Retrying after 20 seconds.\n",
      "fetching http://export.arxiv.org/oai2?verb=ListRecords&resumptionToken=1430452|9001\n",
      "fetching http://export.arxiv.org/oai2?verb=ListRecords&resumptionToken=1430452|10001\n",
      "Got 503. Retrying after 20 seconds.\n",
      "fetching http://export.arxiv.org/oai2?verb=ListRecords&resumptionToken=1430452|10001\n"
     ]
    }
   ],
   "source": [
    "df = harvest()"
   ]
  },
  {
   "cell_type": "code",
   "execution_count": 28,
   "metadata": {
    "collapsed": false,
    "scrolled": true
   },
   "outputs": [],
   "source": [
    "df.to_csv('papers_2012.csv', encoding = 'UTF-8')"
   ]
  },
  {
   "cell_type": "code",
   "execution_count": 14,
   "metadata": {
    "collapsed": true
   },
   "outputs": [],
   "source": [
    "##Archive categories\n",
    "# cs.AR\tComputer Science - Architecture\n",
    "# cs.AI\tComputer Science - Artificial Intelligence\n",
    "# cs.CL\tComputer Science - Computation and Language\n",
    "# cs.CC\tComputer Science - Computational Complexity\n",
    "# cs.CE\tComputer Science - Computational Engineering; Finance; and Science\n",
    "# cs.CG\tComputer Science - Computational Geometry\n",
    "# cs.GT\tComputer Science - Computer Science and Game Theory\n",
    "# cs.CV\tComputer Science - Computer Vision and Pattern Recognition\n",
    "# cs.CY\tComputer Science - Computers and Society\n",
    "# cs.CR\tComputer Science - Cryptography and Security\n",
    "# cs.DS\tComputer Science - Data Structures and Algorithms\n",
    "# cs.DB\tComputer Science - Databases\n",
    "# cs.DL\tComputer Science - Digital Libraries\n",
    "# cs.DM\tComputer Science - Discrete Mathematics\n",
    "# cs.DC\tComputer Science - Distributed; Parallel; and Cluster Computing\n",
    "# cs.GL\tComputer Science - General Literature\n",
    "# cs.GR\tComputer Science - Graphics\n",
    "# cs.HC\tComputer Science - Human-Computer Interaction\n",
    "# cs.IR\tComputer Science - Information Retrieval\n",
    "# cs.IT\tComputer Science - Information Theory\n",
    "# cs.LG\tComputer Science - Learning\n",
    "# cs.LO\tComputer Science - Logic in Computer Science\n",
    "# cs.MS\tComputer Science - Mathematical Software\n",
    "# cs.MA\tComputer Science - Multiagent Systems\n",
    "# cs.MM\tComputer Science - Multimedia\n",
    "# cs.NI\tComputer Science - Networking and Internet Architecture\n",
    "# cs.NE\tComputer Science - Neural and Evolutionary Computing\n",
    "# cs.NA\tComputer Science - Numerical Analysis\n",
    "# cs.OS\tComputer Science - Operating Systems\n",
    "# cs.OH\tComputer Science - Other\n",
    "# cs.PF\tComputer Science - Performance\n",
    "# cs.PL\tComputer Science - Programming Languages\n",
    "# cs.RO\tComputer Science - Robotics\n",
    "# cs.SE\tComputer Science - Software Engineering\n",
    "# cs.SD\tComputer Science - Sound\n",
    "# cs.SC\tComputer Science - Symbolic Computation"
   ]
  },
  {
   "cell_type": "code",
   "execution_count": null,
   "metadata": {
    "collapsed": true
   },
   "outputs": [],
   "source": []
  }
 ],
 "metadata": {
  "kernelspec": {
   "display_name": "Python 2",
   "language": "python",
   "name": "python2"
  },
  "language_info": {
   "codemirror_mode": {
    "name": "ipython",
    "version": 2
   },
   "file_extension": ".py",
   "mimetype": "text/x-python",
   "name": "python",
   "nbconvert_exporter": "python",
   "pygments_lexer": "ipython2",
   "version": "2.7.12"
  }
 },
 "nbformat": 4,
 "nbformat_minor": 0
}
