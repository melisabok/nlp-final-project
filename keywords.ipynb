{
 "cells": [
  {
   "cell_type": "code",
   "execution_count": 3,
   "metadata": {
    "collapsed": false
   },
   "outputs": [],
   "source": [
    "from gensim import corpora, models, similarities\n",
    "from gensim.utils import simple_preprocess, ClippedCorpus\n",
    "from gensim.parsing.preprocessing import STOPWORDS\n",
    "import nltk.stem as stem\n",
    "import utils\n",
    "import knn\n",
    "from collections import defaultdict\n",
    "\n",
    "#autoreload\n",
    "%load_ext autoreload\n",
    "%autoreload 2"
   ]
  },
  {
   "cell_type": "code",
   "execution_count": 4,
   "metadata": {
    "collapsed": true
   },
   "outputs": [],
   "source": [
    "text = \"\"\"\n",
    "On Classification from Outlier View Classification is the basis of cognition. \n",
    "Unlike other solutions, this study approaches it from the view of outliers. \n",
    "We present an expanding algorithm to detect outliers in univariate datasets, \n",
    "together with the underlying foundation. The expanding algorithm runs in a holistic way, \n",
    "making it a rather robust solution. Synthetic and real data experiments show its power. \n",
    "Furthermore, an application for multi-class problems leads to the introduction of the \n",
    "oscillator algorithm. The corresponding result implies the potential wide use of the \n",
    "expanding algorithm.\n",
    "\"\"\""
   ]
  },
  {
   "cell_type": "markdown",
   "metadata": {},
   "source": [
    "Michael's judged keywords:\n",
    "\n",
    "human_keywords = [\"classification\",\"cognition\",\"outliers\",\"oscillator algorithm\"]"
   ]
  },
  {
   "cell_type": "code",
   "execution_count": 5,
   "metadata": {
    "collapsed": false
   },
   "outputs": [
    {
     "name": "stdout",
     "output_type": "stream",
     "text": [
      "data/ldaspace-titles-abstract.pkl not found. Generating file (this may take a while)\n",
      "starting\n"
     ]
    }
   ],
   "source": [
    "# category_counts is a histogram of categories\n",
    "category_counts = knn.classify(k=100,text=text)"
   ]
  },
  {
   "cell_type": "code",
   "execution_count": 9,
   "metadata": {
    "collapsed": false
   },
   "outputs": [
    {
     "name": "stdout",
     "output_type": "stream",
     "text": [
      "Computer Science - Computation and Language\n",
      "Computer Science - Computer Vision and Pattern Recognition\n",
      "Computer Science - Artificial Intelligence\n"
     ]
    }
   ],
   "source": [
    "# show the top 3 category labels for this piece of text\n",
    "categorydict = utils.get_categories()\n",
    "for c,v in category_counts.most_common(3):\n",
    "    print categorydict[c]"
   ]
  },
  {
   "cell_type": "code",
   "execution_count": 39,
   "metadata": {
    "collapsed": false
   },
   "outputs": [
    {
     "name": "stdout",
     "output_type": "stream",
     "text": [
      "['cs.CL', 'cs.CV', 'all', 'cs.AI']\n"
     ]
    }
   ],
   "source": [
    "# get the stemmed keywords for each of the LDA models in category_counts,\n",
    "# plus the stemmed keywords for the LDA model of the entire corpus\n",
    "keyword_stems = knn.get_knn_keywords(top_n=3,counts=category_counts)\n",
    "print keyword_stems.keys()"
   ]
  },
  {
   "cell_type": "code",
   "execution_count": 40,
   "metadata": {
    "collapsed": false
   },
   "outputs": [],
   "source": [
    "# unstem the keywords for each category\n",
    "keywords = {}\n",
    "for k in sorted(keyword_stems.keys()):\n",
    "    keywords[k]=utils.unstem(text,keyword_stems[k])"
   ]
  },
  {
   "cell_type": "code",
   "execution_count": 51,
   "metadata": {
    "collapsed": false
   },
   "outputs": [
    {
     "name": "stdout",
     "output_type": "stream",
     "text": [
      "set([u'synthetic', u'real'])\n",
      "set([])\n",
      "set([])\n",
      "set([u'synthetic', u'real'])\n",
      "set([u'synthetic', u'real', u'detect'])\n",
      "set([u'oscillator', u'univariate'])\n",
      "set([u'detect'])\n",
      "set([u'oscillator', u'multi', u'univariate', u'class'])\n",
      "set([u'multi', u'class'])\n"
     ]
    }
   ],
   "source": [
    "# do various recombinations\n",
    "print keywords['cs.CL'] - keywords['all']\n",
    "print keywords['cs.CV'] - keywords['all']\n",
    "print keywords['cs.AI'] - keywords['all']\n",
    "print keywords['cs.CL'] - keywords['cs.CV']\n",
    "print keywords['cs.CL'] - keywords['cs.AI']\n",
    "print keywords['cs.CV'] - keywords['cs.CL']\n",
    "print keywords['cs.CV'] - keywords['cs.AI']\n",
    "print keywords['cs.AI'] - keywords['cs.CL']\n",
    "print keywords['cs.AI'] - keywords['cs.CV']"
   ]
  },
  {
   "cell_type": "code",
   "execution_count": null,
   "metadata": {
    "collapsed": true
   },
   "outputs": [],
   "source": []
  }
 ],
 "metadata": {
  "kernelspec": {
   "display_name": "Python (585)",
   "language": "python",
   "name": "585"
  },
  "language_info": {
   "codemirror_mode": {
    "name": "ipython",
    "version": 2
   },
   "file_extension": ".py",
   "mimetype": "text/x-python",
   "name": "python",
   "nbconvert_exporter": "python",
   "pygments_lexer": "ipython2",
   "version": "2.7.12"
  }
 },
 "nbformat": 4,
 "nbformat_minor": 0
}
