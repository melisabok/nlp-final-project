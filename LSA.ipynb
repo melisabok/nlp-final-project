{
 "cells": [
  {
   "cell_type": "code",
   "execution_count": 4,
   "metadata": {
    "collapsed": false
   },
   "outputs": [],
   "source": [
    "from gensim import corpora, models, similarities\n",
    "\n",
    "dictionary = corpora.Dictionary.load('datasets/corpus.dict')\n",
    "corpus = corpora.MmCorpus('datasets/corpus.mm')"
   ]
  },
  {
   "cell_type": "code",
   "execution_count": 5,
   "metadata": {
    "collapsed": true
   },
   "outputs": [],
   "source": [
    "tfidf = models.TfidfModel(corpus) # step 1 -- initialize a model"
   ]
  },
  {
   "cell_type": "code",
   "execution_count": 6,
   "metadata": {
    "collapsed": false
   },
   "outputs": [
    {
     "data": {
      "text/plain": [
       "<gensim.models.tfidfmodel.TfidfModel at 0x10a8f1810>"
      ]
     },
     "execution_count": 6,
     "metadata": {},
     "output_type": "execute_result"
    }
   ],
   "source": [
    "tfidf"
   ]
  },
  {
   "cell_type": "code",
   "execution_count": 8,
   "metadata": {
    "collapsed": false
   },
   "outputs": [],
   "source": [
    "corpus_tfidf = tfidf[corpus]"
   ]
  },
  {
   "cell_type": "code",
   "execution_count": 20,
   "metadata": {
    "collapsed": true
   },
   "outputs": [],
   "source": [
    "lsi = models.LsiModel(corpus_tfidf, id2word=dictionary, num_topics=20) # initialize an LSI transformation\n",
    "corpus_lsi = lsi[corpus_tfidf] # create a double wrapper over the original corpus: bow->tfidf->fold-in-lsi"
   ]
  },
  {
   "cell_type": "code",
   "execution_count": 21,
   "metadata": {
    "collapsed": false
   },
   "outputs": [
    {
     "data": {
      "text/plain": [
       "[(0,\n",
       "  u'0.130*\"data\" + 0.127*\"learning\" + 0.119*\"algorithm\" + 0.113*\"network\" + 0.112*\"model\" + 0.100*\"problem\" + 0.099*\"method\" + 0.097*\"proposed\" + 0.090*\"approach\" + 0.089*\"algorithms\"'),\n",
       " (1,\n",
       "  u'0.196*\"deep\" + 0.194*\"neural\" + 0.176*\"learning\" + -0.167*\"graph\" + -0.150*\"quantum\" + -0.146*\"algorithm\" + 0.139*\"image\" + -0.134*\"problem\" + -0.131*\"bound\" + 0.119*\"training\"'),\n",
       " (2,\n",
       "  u'0.190*\"graph\" + -0.184*\"energy\" + -0.183*\"channel\" + -0.158*\"power\" + -0.145*\"communication\" + 0.129*\"learning\" + -0.128*\"wireless\" + 0.128*\"graphs\" + 0.127*\"algorithm\" + -0.126*\"network\"'),\n",
       " (3,\n",
       "  u'0.333*\"quantum\" + 0.299*\"codes\" + -0.253*\"graph\" + -0.221*\"social\" + 0.180*\"channel\" + 0.153*\"image\" + -0.153*\"data\" + -0.142*\"graphs\" + 0.105*\"error\" + 0.103*\"noise\"'),\n",
       " (4,\n",
       "  u'-0.465*\"quantum\" + -0.237*\"codes\" + 0.173*\"learning\" + -0.167*\"translation\" + 0.160*\"algorithm\" + 0.138*\"optimization\" + -0.131*\"language\" + 0.125*\"convergence\" + 0.119*\"method\" + 0.116*\"gradient\"'),\n",
       " (5,\n",
       "  u'-0.370*\"quantum\" + -0.299*\"learning\" + 0.274*\"image\" + 0.236*\"graph\" + 0.155*\"images\" + -0.133*\"machine\" + 0.130*\"graphs\" + -0.122*\"data\" + 0.111*\"channel\" + 0.105*\"vertices\"'),\n",
       " (6,\n",
       "  u'-0.280*\"neural\" + -0.278*\"network\" + -0.230*\"networks\" + -0.218*\"deep\" + -0.177*\"learning\" + 0.169*\"data\" + -0.161*\"translation\" + 0.160*\"image\" + 0.120*\"method\" + -0.109*\"graph\"'),\n",
       " (7,\n",
       "  u'-0.538*\"translation\" + 0.276*\"quantum\" + 0.219*\"network\" + -0.215*\"language\" + -0.186*\"word\" + 0.161*\"networks\" + -0.153*\"machine\" + 0.136*\"deep\" + 0.132*\"social\" + 0.118*\"learning\"'),\n",
       " (8,\n",
       "  u'0.438*\"codes\" + 0.265*\"data\" + -0.203*\"control\" + -0.195*\"system\" + 0.191*\"learning\" + -0.185*\"quantum\" + -0.119*\"model\" + 0.116*\"code\" + 0.103*\"polar\" + 0.101*\"bound\"'),\n",
       " (9,\n",
       "  u'0.393*\"quantum\" + -0.345*\"codes\" + 0.157*\"graph\" + 0.150*\"translation\" + 0.131*\"data\" + 0.129*\"algorithm\" + 0.126*\"energy\" + -0.120*\"finite\" + -0.117*\"network\" + -0.113*\"networks\"'),\n",
       " (10,\n",
       "  u'-0.255*\"codes\" + 0.186*\"social\" + -0.182*\"graph\" + 0.162*\"bound\" + 0.160*\"learning\" + -0.146*\"network\" + 0.139*\"information\" + -0.138*\"matrix\" + 0.138*\"channel\" + 0.131*\"semantic\"'),\n",
       " (11,\n",
       "  u'-0.298*\"social\" + -0.178*\"matrix\" + 0.171*\"control\" + 0.150*\"learning\" + -0.149*\"sparse\" + -0.142*\"network\" + -0.136*\"networks\" + -0.134*\"clustering\" + 0.122*\"robot\" + -0.114*\"quantum\"'),\n",
       " (12,\n",
       "  u'0.313*\"graph\" + 0.217*\"learning\" + -0.196*\"energy\" + 0.168*\"graphs\" + 0.168*\"channel\" + -0.143*\"image\" + -0.138*\"memory\" + -0.123*\"complexity\" + 0.119*\"codes\" + 0.116*\"control\"'),\n",
       " (13,\n",
       "  u'-0.346*\"translation\" + -0.284*\"social\" + -0.224*\"image\" + 0.203*\"data\" + 0.176*\"semantic\" + -0.170*\"codes\" + -0.127*\"algorithm\" + -0.124*\"problem\" + -0.104*\"images\" + -0.101*\"optimization\"'),\n",
       " (14,\n",
       "  u'-0.336*\"semantic\" + -0.179*\"word\" + -0.165*\"optimization\" + 0.157*\"time\" + 0.155*\"algorithm\" + 0.145*\"system\" + -0.141*\"graph\" + 0.134*\"bound\" + -0.126*\"language\" + -0.122*\"representation\"'),\n",
       " (15,\n",
       "  u'0.341*\"image\" + -0.313*\"algorithm\" + -0.163*\"semantic\" + -0.151*\"time\" + 0.134*\"gradient\" + -0.127*\"approximation\" + -0.119*\"algorithms\" + 0.118*\"energy\" + -0.111*\"video\" + 0.107*\"translation\"'),\n",
       " (16,\n",
       "  u'0.505*\"energy\" + -0.165*\"channel\" + -0.156*\"image\" + 0.140*\"power\" + 0.132*\"codes\" + 0.131*\"consumption\" + -0.122*\"security\" + -0.119*\"communication\" + -0.116*\"memory\" + 0.108*\"translation\"'),\n",
       " (17,\n",
       "  u'0.222*\"data\" + 0.184*\"control\" + 0.177*\"network\" + 0.176*\"bound\" + -0.174*\"social\" + 0.152*\"semantic\" + -0.151*\"algorithms\" + 0.130*\"word\" + -0.114*\"complexity\" + -0.112*\"problems\"'),\n",
       " (18,\n",
       "  u'-0.216*\"image\" + -0.166*\"memory\" + -0.153*\"sparse\" + 0.151*\"feature\" + 0.150*\"detection\" + 0.148*\"classification\" + 0.147*\"features\" + 0.143*\"data\" + -0.133*\"matrix\" + -0.125*\"model\"'),\n",
       " (19,\n",
       "  u'-0.252*\"video\" + -0.189*\"models\" + 0.167*\"social\" + 0.166*\"feature\" + -0.164*\"model\" + 0.153*\"learning\" + 0.143*\"online\" + 0.142*\"system\" + -0.140*\"data\" + 0.133*\"clustering\"')]"
      ]
     },
     "execution_count": 21,
     "metadata": {},
     "output_type": "execute_result"
    }
   ],
   "source": [
    "lsi.print_topics()"
   ]
  },
  {
   "cell_type": "code",
   "execution_count": 24,
   "metadata": {
    "collapsed": false
   },
   "outputs": [
    {
     "ename": "IOError",
     "evalue": "[Errno 2] No such file or directory: '/data/model.lsi.projection'",
     "output_type": "error",
     "traceback": [
      "\u001b[0;31m---------------------------------------------------------------------------\u001b[0m",
      "\u001b[0;31mIOError\u001b[0m                                   Traceback (most recent call last)",
      "\u001b[0;32m<ipython-input-24-6dea3feb1c08>\u001b[0m in \u001b[0;36m<module>\u001b[0;34m()\u001b[0m\n\u001b[0;32m----> 1\u001b[0;31m \u001b[0mlsi\u001b[0m\u001b[0;34m.\u001b[0m\u001b[0msave\u001b[0m\u001b[0;34m(\u001b[0m\u001b[0;34m'/data/model.lsi'\u001b[0m\u001b[0;34m)\u001b[0m \u001b[0;31m# same for tfidf, lda, ...\u001b[0m\u001b[0;34m\u001b[0m\u001b[0m\n\u001b[0m\u001b[1;32m      2\u001b[0m \u001b[0mlsi\u001b[0m \u001b[0;34m=\u001b[0m \u001b[0mmodels\u001b[0m\u001b[0;34m.\u001b[0m\u001b[0mLsiModel\u001b[0m\u001b[0;34m.\u001b[0m\u001b[0mload\u001b[0m\u001b[0;34m(\u001b[0m\u001b[0;34m'/data/model.lsi'\u001b[0m\u001b[0;34m)\u001b[0m\u001b[0;34m\u001b[0m\u001b[0m\n",
      "\u001b[0;32m/Users/michaelspector/miniconda2/envs/585/lib/python2.7/site-packages/gensim/models/lsimodel.pyc\u001b[0m in \u001b[0;36msave\u001b[0;34m(self, fname, *args, **kwargs)\u001b[0m\n\u001b[1;32m    543\u001b[0m         \"\"\"\n\u001b[1;32m    544\u001b[0m         \u001b[0;32mif\u001b[0m \u001b[0mself\u001b[0m\u001b[0;34m.\u001b[0m\u001b[0mprojection\u001b[0m \u001b[0;32mis\u001b[0m \u001b[0;32mnot\u001b[0m \u001b[0mNone\u001b[0m\u001b[0;34m:\u001b[0m\u001b[0;34m\u001b[0m\u001b[0m\n\u001b[0;32m--> 545\u001b[0;31m             \u001b[0mself\u001b[0m\u001b[0;34m.\u001b[0m\u001b[0mprojection\u001b[0m\u001b[0;34m.\u001b[0m\u001b[0msave\u001b[0m\u001b[0;34m(\u001b[0m\u001b[0mutils\u001b[0m\u001b[0;34m.\u001b[0m\u001b[0msmart_extension\u001b[0m\u001b[0;34m(\u001b[0m\u001b[0mfname\u001b[0m\u001b[0;34m,\u001b[0m \u001b[0;34m'.projection'\u001b[0m\u001b[0;34m)\u001b[0m\u001b[0;34m,\u001b[0m \u001b[0;34m*\u001b[0m\u001b[0margs\u001b[0m\u001b[0;34m,\u001b[0m \u001b[0;34m**\u001b[0m\u001b[0mkwargs\u001b[0m\u001b[0;34m)\u001b[0m\u001b[0;34m\u001b[0m\u001b[0m\n\u001b[0m\u001b[1;32m    546\u001b[0m         \u001b[0msuper\u001b[0m\u001b[0;34m(\u001b[0m\u001b[0mLsiModel\u001b[0m\u001b[0;34m,\u001b[0m \u001b[0mself\u001b[0m\u001b[0;34m)\u001b[0m\u001b[0;34m.\u001b[0m\u001b[0msave\u001b[0m\u001b[0;34m(\u001b[0m\u001b[0mfname\u001b[0m\u001b[0;34m,\u001b[0m \u001b[0;34m*\u001b[0m\u001b[0margs\u001b[0m\u001b[0;34m,\u001b[0m \u001b[0mignore\u001b[0m\u001b[0;34m=\u001b[0m\u001b[0;34m[\u001b[0m\u001b[0;34m'projection'\u001b[0m\u001b[0;34m,\u001b[0m \u001b[0;34m'dispatcher'\u001b[0m\u001b[0;34m]\u001b[0m\u001b[0;34m,\u001b[0m \u001b[0;34m**\u001b[0m\u001b[0mkwargs\u001b[0m\u001b[0;34m)\u001b[0m\u001b[0;34m\u001b[0m\u001b[0m\n\u001b[1;32m    547\u001b[0m \u001b[0;34m\u001b[0m\u001b[0m\n",
      "\u001b[0;32m/Users/michaelspector/miniconda2/envs/585/lib/python2.7/site-packages/gensim/utils.pyc\u001b[0m in \u001b[0;36msave\u001b[0;34m(self, fname_or_handle, separately, sep_limit, ignore, pickle_protocol)\u001b[0m\n\u001b[1;32m    477\u001b[0m         \u001b[0;32mexcept\u001b[0m \u001b[0mTypeError\u001b[0m\u001b[0;34m:\u001b[0m  \u001b[0;31m# `fname_or_handle` does not have write attribute\u001b[0m\u001b[0;34m\u001b[0m\u001b[0m\n\u001b[1;32m    478\u001b[0m             self._smart_save(fname_or_handle, separately, sep_limit, ignore,\n\u001b[0;32m--> 479\u001b[0;31m                              pickle_protocol=pickle_protocol)\n\u001b[0m\u001b[1;32m    480\u001b[0m \u001b[0;31m#endclass SaveLoad\u001b[0m\u001b[0;34m\u001b[0m\u001b[0;34m\u001b[0m\u001b[0m\n\u001b[1;32m    481\u001b[0m \u001b[0;34m\u001b[0m\u001b[0m\n",
      "\u001b[0;32m/Users/michaelspector/miniconda2/envs/585/lib/python2.7/site-packages/gensim/utils.pyc\u001b[0m in \u001b[0;36m_smart_save\u001b[0;34m(self, fname, separately, sep_limit, ignore, pickle_protocol)\u001b[0m\n\u001b[1;32m    349\u001b[0m                                        compress, subname)\n\u001b[1;32m    350\u001b[0m         \u001b[0;32mtry\u001b[0m\u001b[0;34m:\u001b[0m\u001b[0;34m\u001b[0m\u001b[0m\n\u001b[0;32m--> 351\u001b[0;31m             \u001b[0mpickle\u001b[0m\u001b[0;34m(\u001b[0m\u001b[0mself\u001b[0m\u001b[0;34m,\u001b[0m \u001b[0mfname\u001b[0m\u001b[0;34m,\u001b[0m \u001b[0mprotocol\u001b[0m\u001b[0;34m=\u001b[0m\u001b[0mpickle_protocol\u001b[0m\u001b[0;34m)\u001b[0m\u001b[0;34m\u001b[0m\u001b[0m\n\u001b[0m\u001b[1;32m    352\u001b[0m         \u001b[0;32mfinally\u001b[0m\u001b[0;34m:\u001b[0m\u001b[0;34m\u001b[0m\u001b[0m\n\u001b[1;32m    353\u001b[0m             \u001b[0;31m# restore attribs handled specially\u001b[0m\u001b[0;34m\u001b[0m\u001b[0;34m\u001b[0m\u001b[0m\n",
      "\u001b[0;32m/Users/michaelspector/miniconda2/envs/585/lib/python2.7/site-packages/gensim/utils.pyc\u001b[0m in \u001b[0;36mpickle\u001b[0;34m(obj, fname, protocol)\u001b[0m\n\u001b[1;32m    902\u001b[0m \u001b[0;34m\u001b[0m\u001b[0m\n\u001b[1;32m    903\u001b[0m     \"\"\"\n\u001b[0;32m--> 904\u001b[0;31m     \u001b[0;32mwith\u001b[0m \u001b[0msmart_open\u001b[0m\u001b[0;34m(\u001b[0m\u001b[0mfname\u001b[0m\u001b[0;34m,\u001b[0m \u001b[0;34m'wb'\u001b[0m\u001b[0;34m)\u001b[0m \u001b[0;32mas\u001b[0m \u001b[0mfout\u001b[0m\u001b[0;34m:\u001b[0m  \u001b[0;31m# 'b' for binary, needed on Windows\u001b[0m\u001b[0;34m\u001b[0m\u001b[0m\n\u001b[0m\u001b[1;32m    905\u001b[0m         \u001b[0m_pickle\u001b[0m\u001b[0;34m.\u001b[0m\u001b[0mdump\u001b[0m\u001b[0;34m(\u001b[0m\u001b[0mobj\u001b[0m\u001b[0;34m,\u001b[0m \u001b[0mfout\u001b[0m\u001b[0;34m,\u001b[0m \u001b[0mprotocol\u001b[0m\u001b[0;34m=\u001b[0m\u001b[0mprotocol\u001b[0m\u001b[0;34m)\u001b[0m\u001b[0;34m\u001b[0m\u001b[0m\n\u001b[1;32m    906\u001b[0m \u001b[0;34m\u001b[0m\u001b[0m\n",
      "\u001b[0;32m/Users/michaelspector/miniconda2/envs/585/lib/python2.7/site-packages/smart_open/smart_open_lib.pyc\u001b[0m in \u001b[0;36msmart_open\u001b[0;34m(uri, mode, **kw)\u001b[0m\n\u001b[1;32m    125\u001b[0m             \u001b[0;31m# local files -- both read & write supported\u001b[0m\u001b[0;34m\u001b[0m\u001b[0;34m\u001b[0m\u001b[0m\n\u001b[1;32m    126\u001b[0m             \u001b[0;31m# compression, if any, is determined by the filename extension (.gz, .bz2)\u001b[0m\u001b[0;34m\u001b[0m\u001b[0;34m\u001b[0m\u001b[0m\n\u001b[0;32m--> 127\u001b[0;31m             \u001b[0;32mreturn\u001b[0m \u001b[0mfile_smart_open\u001b[0m\u001b[0;34m(\u001b[0m\u001b[0mparsed_uri\u001b[0m\u001b[0;34m.\u001b[0m\u001b[0muri_path\u001b[0m\u001b[0;34m,\u001b[0m \u001b[0mmode\u001b[0m\u001b[0;34m)\u001b[0m\u001b[0;34m\u001b[0m\u001b[0m\n\u001b[0m\u001b[1;32m    128\u001b[0m         \u001b[0;32melif\u001b[0m \u001b[0mparsed_uri\u001b[0m\u001b[0;34m.\u001b[0m\u001b[0mscheme\u001b[0m \u001b[0;32min\u001b[0m \u001b[0;34m(\u001b[0m\u001b[0;34m\"s3\"\u001b[0m\u001b[0;34m,\u001b[0m \u001b[0;34m\"s3n\"\u001b[0m\u001b[0;34m)\u001b[0m\u001b[0;34m:\u001b[0m\u001b[0;34m\u001b[0m\u001b[0m\n\u001b[1;32m    129\u001b[0m             \u001b[0;31m# Get an S3 host. It is required for sigv4 operations.\u001b[0m\u001b[0;34m\u001b[0m\u001b[0;34m\u001b[0m\u001b[0m\n",
      "\u001b[0;32m/Users/michaelspector/miniconda2/envs/585/lib/python2.7/site-packages/smart_open/smart_open_lib.pyc\u001b[0m in \u001b[0;36mfile_smart_open\u001b[0;34m(fname, mode)\u001b[0m\n\u001b[1;32m    556\u001b[0m         \u001b[0;32mreturn\u001b[0m \u001b[0mmake_closing\u001b[0m\u001b[0;34m(\u001b[0m\u001b[0mGzipFile\u001b[0m\u001b[0;34m)\u001b[0m\u001b[0;34m(\u001b[0m\u001b[0mfname\u001b[0m\u001b[0;34m,\u001b[0m \u001b[0mmode\u001b[0m\u001b[0;34m)\u001b[0m\u001b[0;34m\u001b[0m\u001b[0m\n\u001b[1;32m    557\u001b[0m \u001b[0;34m\u001b[0m\u001b[0m\n\u001b[0;32m--> 558\u001b[0;31m     \u001b[0;32mreturn\u001b[0m \u001b[0mopen\u001b[0m\u001b[0;34m(\u001b[0m\u001b[0mfname\u001b[0m\u001b[0;34m,\u001b[0m \u001b[0mmode\u001b[0m\u001b[0;34m)\u001b[0m\u001b[0;34m\u001b[0m\u001b[0m\n\u001b[0m\u001b[1;32m    559\u001b[0m \u001b[0;34m\u001b[0m\u001b[0m\n\u001b[1;32m    560\u001b[0m \u001b[0;34m\u001b[0m\u001b[0m\n",
      "\u001b[0;31mIOError\u001b[0m: [Errno 2] No such file or directory: '/data/model.lsi.projection'"
     ]
    }
   ],
   "source": [
    "lsi.save('/data/model.lsi') # same for tfidf, lda, ...\n",
    "lsi = models.LsiModel.load('.data/model.lsi')"
   ]
  },
  {
   "cell_type": "code",
   "execution_count": null,
   "metadata": {
    "collapsed": true
   },
   "outputs": [],
   "source": []
  }
 ],
 "metadata": {
  "kernelspec": {
   "display_name": "Python (585)",
   "language": "python",
   "name": "585"
  },
  "language_info": {
   "codemirror_mode": {
    "name": "ipython",
    "version": 2
   },
   "file_extension": ".py",
   "mimetype": "text/x-python",
   "name": "python",
   "nbconvert_exporter": "python",
   "pygments_lexer": "ipython2",
   "version": "2.7.12"
  }
 },
 "nbformat": 4,
 "nbformat_minor": 0
}
