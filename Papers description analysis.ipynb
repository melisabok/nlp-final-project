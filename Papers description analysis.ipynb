{
 "cells": [
  {
   "cell_type": "code",
   "execution_count": 32,
   "metadata": {
    "collapsed": true
   },
   "outputs": [],
   "source": [
    "%matplotlib inline"
   ]
  },
  {
   "cell_type": "code",
   "execution_count": 130,
   "metadata": {
    "collapsed": false
   },
   "outputs": [],
   "source": [
    "import pandas as pd\n",
    "import numpy as np\n",
    "from collections import Counter\n",
    "import matplotlib\n",
    "matplotlib.style.use('ggplot')\n",
    "from nltk.corpus import stopwords\n",
    "from nltk.tokenize import RegexpTokenizer"
   ]
  },
  {
   "cell_type": "code",
   "execution_count": 146,
   "metadata": {
    "collapsed": false
   },
   "outputs": [],
   "source": [
    "papers_2012 = pd.read_csv('papers_2012.csv', parse_dates=True)\n",
    "papers_2013 = pd.read_csv('papers_2013.csv', parse_dates=True)\n",
    "papers_2014 = pd.read_csv('papers_2014.csv', parse_dates=True)\n",
    "papers_2015 = pd.read_csv('papers_2015.csv', parse_dates=True)\n",
    "papers_2016 = pd.read_csv('papers_2016.csv', parse_dates=True)\n",
    "frames = [papers_2012, papers_2013, papers_2014, papers_2015, papers_2016]\n",
    "df = pd.concat(frames)\n",
    "df['created'] = pd.to_datetime(df['created'], format = \"%Y-%m-%d\")\n",
    "df.drop('Unnamed: 0', 1, inplace=True)"
   ]
  },
  {
   "cell_type": "code",
   "execution_count": 147,
   "metadata": {
    "collapsed": false
   },
   "outputs": [
    {
     "data": {
      "text/html": [
       "<div>\n",
       "<table border=\"1\" class=\"dataframe\">\n",
       "  <thead>\n",
       "    <tr style=\"text-align: right;\">\n",
       "      <th></th>\n",
       "      <th>title</th>\n",
       "      <th>abstract</th>\n",
       "      <th>categories</th>\n",
       "      <th>created</th>\n",
       "      <th>id</th>\n",
       "      <th>doi</th>\n",
       "    </tr>\n",
       "  </thead>\n",
       "  <tbody>\n",
       "    <tr>\n",
       "      <th>count</th>\n",
       "      <td>88618</td>\n",
       "      <td>88618</td>\n",
       "      <td>88618</td>\n",
       "      <td>88618</td>\n",
       "      <td>88618</td>\n",
       "      <td>16458</td>\n",
       "    </tr>\n",
       "    <tr>\n",
       "      <th>unique</th>\n",
       "      <td>88509</td>\n",
       "      <td>88545</td>\n",
       "      <td>10125</td>\n",
       "      <td>3598</td>\n",
       "      <td>88618</td>\n",
       "      <td>16406</td>\n",
       "    </tr>\n",
       "    <tr>\n",
       "      <th>top</th>\n",
       "      <td>Discussion: Latent variable graphical model se...</td>\n",
       "      <td>This paper has been withdrawn by the author.</td>\n",
       "      <td>[cs.IT, math.IT]</td>\n",
       "      <td>2013-03-27 00:00:00</td>\n",
       "      <td>1605.05610</td>\n",
       "      <td>10.1145/1235</td>\n",
       "    </tr>\n",
       "    <tr>\n",
       "      <th>freq</th>\n",
       "      <td>4</td>\n",
       "      <td>4</td>\n",
       "      <td>8632</td>\n",
       "      <td>331</td>\n",
       "      <td>1</td>\n",
       "      <td>6</td>\n",
       "    </tr>\n",
       "    <tr>\n",
       "      <th>first</th>\n",
       "      <td>NaN</td>\n",
       "      <td>NaN</td>\n",
       "      <td>NaN</td>\n",
       "      <td>1993-11-30 00:00:00</td>\n",
       "      <td>NaN</td>\n",
       "      <td>NaN</td>\n",
       "    </tr>\n",
       "    <tr>\n",
       "      <th>last</th>\n",
       "      <td>NaN</td>\n",
       "      <td>NaN</td>\n",
       "      <td>NaN</td>\n",
       "      <td>2016-11-07 00:00:00</td>\n",
       "      <td>NaN</td>\n",
       "      <td>NaN</td>\n",
       "    </tr>\n",
       "  </tbody>\n",
       "</table>\n",
       "</div>"
      ],
      "text/plain": [
       "                                                    title  \\\n",
       "count                                               88618   \n",
       "unique                                              88509   \n",
       "top     Discussion: Latent variable graphical model se...   \n",
       "freq                                                    4   \n",
       "first                                                 NaN   \n",
       "last                                                  NaN   \n",
       "\n",
       "                                            abstract        categories  \\\n",
       "count                                          88618             88618   \n",
       "unique                                         88545             10125   \n",
       "top     This paper has been withdrawn by the author.  [cs.IT, math.IT]   \n",
       "freq                                               4              8632   \n",
       "first                                            NaN               NaN   \n",
       "last                                             NaN               NaN   \n",
       "\n",
       "                    created          id           doi  \n",
       "count                 88618       88618         16458  \n",
       "unique                 3598       88618         16406  \n",
       "top     2013-03-27 00:00:00  1605.05610  10.1145/1235  \n",
       "freq                    331           1             6  \n",
       "first   1993-11-30 00:00:00         NaN           NaN  \n",
       "last    2016-11-07 00:00:00         NaN           NaN  "
      ]
     },
     "execution_count": 147,
     "metadata": {},
     "output_type": "execute_result"
    }
   ],
   "source": [
    "df.describe()"
   ]
  },
  {
   "cell_type": "code",
   "execution_count": 148,
   "metadata": {
    "collapsed": false
   },
   "outputs": [
    {
     "data": {
      "text/html": [
       "<div>\n",
       "<table border=\"1\" class=\"dataframe\">\n",
       "  <thead>\n",
       "    <tr style=\"text-align: right;\">\n",
       "      <th></th>\n",
       "      <th>title</th>\n",
       "      <th>abstract</th>\n",
       "      <th>categories</th>\n",
       "      <th>created</th>\n",
       "      <th>id</th>\n",
       "      <th>doi</th>\n",
       "    </tr>\n",
       "  </thead>\n",
       "  <tbody>\n",
       "    <tr>\n",
       "      <th>0</th>\n",
       "      <td>Geometric Complexity Theory V: On deciding non...</td>\n",
       "      <td>This article has been withdrawn because it has...</td>\n",
       "      <td>[cs.CC]</td>\n",
       "      <td>2007-04-02</td>\n",
       "      <td>0704.0213</td>\n",
       "      <td>NaN</td>\n",
       "    </tr>\n",
       "    <tr>\n",
       "      <th>1</th>\n",
       "      <td>Hybrid-ARQ in Multihop Networks with Opportuni...</td>\n",
       "      <td>This paper develops a contention-based opportu...</td>\n",
       "      <td>[cs.IT, math.IT]</td>\n",
       "      <td>2007-04-05</td>\n",
       "      <td>0704.0802</td>\n",
       "      <td>NaN</td>\n",
       "    </tr>\n",
       "    <tr>\n",
       "      <th>2</th>\n",
       "      <td>Opportunistic Relay Selection with Limited Fee...</td>\n",
       "      <td>It has been shown that a decentralized relay s...</td>\n",
       "      <td>[cs.IT, math.IT]</td>\n",
       "      <td>2007-04-05</td>\n",
       "      <td>0704.0805</td>\n",
       "      <td>NaN</td>\n",
       "    </tr>\n",
       "    <tr>\n",
       "      <th>3</th>\n",
       "      <td>Preconditioned Temporal Difference Learning</td>\n",
       "      <td>This paper has been withdrawn by the author. T...</td>\n",
       "      <td>[cs.LG, cs.AI]</td>\n",
       "      <td>2007-04-11</td>\n",
       "      <td>0704.1409</td>\n",
       "      <td>NaN</td>\n",
       "    </tr>\n",
       "    <tr>\n",
       "      <th>4</th>\n",
       "      <td>Optimum Linear LLR Calculation for Iterative D...</td>\n",
       "      <td>On a fading channel with no channel state info...</td>\n",
       "      <td>[cs.IT, math.IT]</td>\n",
       "      <td>2007-04-18</td>\n",
       "      <td>0704.2452</td>\n",
       "      <td>10.1109/ISIT.2007.4557204</td>\n",
       "    </tr>\n",
       "  </tbody>\n",
       "</table>\n",
       "</div>"
      ],
      "text/plain": [
       "                                               title  \\\n",
       "0  Geometric Complexity Theory V: On deciding non...   \n",
       "1  Hybrid-ARQ in Multihop Networks with Opportuni...   \n",
       "2  Opportunistic Relay Selection with Limited Fee...   \n",
       "3        Preconditioned Temporal Difference Learning   \n",
       "4  Optimum Linear LLR Calculation for Iterative D...   \n",
       "\n",
       "                                            abstract        categories  \\\n",
       "0  This article has been withdrawn because it has...           [cs.CC]   \n",
       "1  This paper develops a contention-based opportu...  [cs.IT, math.IT]   \n",
       "2  It has been shown that a decentralized relay s...  [cs.IT, math.IT]   \n",
       "3  This paper has been withdrawn by the author. T...    [cs.LG, cs.AI]   \n",
       "4  On a fading channel with no channel state info...  [cs.IT, math.IT]   \n",
       "\n",
       "     created         id                        doi  \n",
       "0 2007-04-02  0704.0213                        NaN  \n",
       "1 2007-04-05  0704.0802                        NaN  \n",
       "2 2007-04-05  0704.0805                        NaN  \n",
       "3 2007-04-11  0704.1409                        NaN  \n",
       "4 2007-04-18  0704.2452  10.1109/ISIT.2007.4557204  "
      ]
     },
     "execution_count": 148,
     "metadata": {},
     "output_type": "execute_result"
    }
   ],
   "source": [
    "df.head()"
   ]
  },
  {
   "cell_type": "code",
   "execution_count": 149,
   "metadata": {
    "collapsed": false
   },
   "outputs": [],
   "source": [
    "per_year_df = pd.DataFrame(df.groupby(df.created.map(lambda x: x.year)).id.count())\n",
    "per_year_df.columns = ['count']"
   ]
  },
  {
   "cell_type": "code",
   "execution_count": 159,
   "metadata": {
    "collapsed": false
   },
   "outputs": [
    {
     "data": {
      "text/html": [
       "<div>\n",
       "<table border=\"1\" class=\"dataframe\">\n",
       "  <thead>\n",
       "    <tr style=\"text-align: right;\">\n",
       "      <th>created</th>\n",
       "      <th>1993</th>\n",
       "      <th>1994</th>\n",
       "      <th>1995</th>\n",
       "      <th>1996</th>\n",
       "      <th>1997</th>\n",
       "      <th>1998</th>\n",
       "      <th>1999</th>\n",
       "      <th>2000</th>\n",
       "      <th>2001</th>\n",
       "      <th>2002</th>\n",
       "      <th>2003</th>\n",
       "      <th>2004</th>\n",
       "    </tr>\n",
       "  </thead>\n",
       "  <tbody>\n",
       "    <tr>\n",
       "      <th>count</th>\n",
       "      <td>2</td>\n",
       "      <td>22</td>\n",
       "      <td>88</td>\n",
       "      <td>25</td>\n",
       "      <td>15</td>\n",
       "      <td>21</td>\n",
       "      <td>13</td>\n",
       "      <td>20</td>\n",
       "      <td>26</td>\n",
       "      <td>59</td>\n",
       "      <td>37</td>\n",
       "      <td>63</td>\n",
       "    </tr>\n",
       "  </tbody>\n",
       "</table>\n",
       "</div>"
      ],
      "text/plain": [
       "created  1993  1994  1995  1996  1997  1998  1999  2000  2001  2002  2003  \\\n",
       "count       2    22    88    25    15    21    13    20    26    59    37   \n",
       "\n",
       "created  2004  \n",
       "count      63  "
      ]
     },
     "execution_count": 159,
     "metadata": {},
     "output_type": "execute_result"
    }
   ],
   "source": [
    "per_year_df[:12].T"
   ]
  },
  {
   "cell_type": "code",
   "execution_count": 160,
   "metadata": {
    "collapsed": false
   },
   "outputs": [
    {
     "data": {
      "text/html": [
       "<div>\n",
       "<table border=\"1\" class=\"dataframe\">\n",
       "  <thead>\n",
       "    <tr style=\"text-align: right;\">\n",
       "      <th>created</th>\n",
       "      <th>2005</th>\n",
       "      <th>2006</th>\n",
       "      <th>2007</th>\n",
       "      <th>2008</th>\n",
       "      <th>2009</th>\n",
       "      <th>2010</th>\n",
       "      <th>2011</th>\n",
       "      <th>2012</th>\n",
       "      <th>2013</th>\n",
       "      <th>2014</th>\n",
       "      <th>2015</th>\n",
       "      <th>2016</th>\n",
       "    </tr>\n",
       "  </thead>\n",
       "  <tbody>\n",
       "    <tr>\n",
       "      <th>count</th>\n",
       "      <td>135</td>\n",
       "      <td>220</td>\n",
       "      <td>167</td>\n",
       "      <td>294</td>\n",
       "      <td>618</td>\n",
       "      <td>1650</td>\n",
       "      <td>3229</td>\n",
       "      <td>12337</td>\n",
       "      <td>14909</td>\n",
       "      <td>16278</td>\n",
       "      <td>18791</td>\n",
       "      <td>19599</td>\n",
       "    </tr>\n",
       "  </tbody>\n",
       "</table>\n",
       "</div>"
      ],
      "text/plain": [
       "created  2005  2006  2007  2008  2009  2010  2011   2012   2013   2014   2015  \\\n",
       "count     135   220   167   294   618  1650  3229  12337  14909  16278  18791   \n",
       "\n",
       "created   2016  \n",
       "count    19599  "
      ]
     },
     "execution_count": 160,
     "metadata": {},
     "output_type": "execute_result"
    }
   ],
   "source": [
    "per_year_df[12:].T"
   ]
  },
  {
   "cell_type": "code",
   "execution_count": 115,
   "metadata": {
    "collapsed": false
   },
   "outputs": [
    {
     "data": {
      "text/plain": [
       "<matplotlib.text.Text at 0x1391deed0>"
      ]
     },
     "execution_count": 115,
     "metadata": {},
     "output_type": "execute_result"
    },
    {
     "data": {
      "image/png": "[encoded data removed]",
      "text/plain": [
       "<matplotlib.figure.Figure at 0x13c390950>"
      ]
     },
     "metadata": {},
     "output_type": "display_data"
    }
   ],
   "source": [
    "per_year_df.plot(kind='bar', figsize=(10, 6)).set_title('Count of papers created per year')"
   ]
  },
  {
   "cell_type": "code",
   "execution_count": 105,
   "metadata": {
    "collapsed": false
   },
   "outputs": [],
   "source": [
    "per_category = Counter()\n",
    "for index, row in df.iterrows():\n",
    "    categories = row['categories'].replace('[', '').replace(']', '').split(',')\n",
    "    for c in categories:\n",
    "        per_category[c.strip()] += 1"
   ]
  },
  {
   "cell_type": "code",
   "execution_count": 106,
   "metadata": {
    "collapsed": false
   },
   "outputs": [],
   "source": [
    "per_category_df = pd.DataFrame.from_dict(per_category, orient='index')\n",
    "per_category_df.columns = ['count']"
   ]
  },
  {
   "cell_type": "code",
   "execution_count": 107,
   "metadata": {
    "collapsed": false
   },
   "outputs": [
    {
     "name": "stderr",
     "output_type": "stream",
     "text": [
      "/anaconda/lib/python2.7/site-packages/ipykernel/__main__.py:1: FutureWarning: sort(columns=....) is deprecated, use sort_values(by=.....)\n",
      "  if __name__ == '__main__':\n"
     ]
    }
   ],
   "source": [
    "sorted_categories_df = per_category_df.sort(['count'], ascending=False)"
   ]
  },
  {
   "cell_type": "code",
   "execution_count": 108,
   "metadata": {
    "collapsed": false
   },
   "outputs": [
    {
     "data": {
      "text/html": [
       "<div>\n",
       "<table border=\"1\" class=\"dataframe\">\n",
       "  <thead>\n",
       "    <tr style=\"text-align: right;\">\n",
       "      <th></th>\n",
       "      <th>count</th>\n",
       "    </tr>\n",
       "  </thead>\n",
       "  <tbody>\n",
       "    <tr>\n",
       "      <th>count</th>\n",
       "      <td>152.000000</td>\n",
       "    </tr>\n",
       "    <tr>\n",
       "      <th>mean</th>\n",
       "      <td>1119.394737</td>\n",
       "    </tr>\n",
       "    <tr>\n",
       "      <th>std</th>\n",
       "      <td>2312.446550</td>\n",
       "    </tr>\n",
       "    <tr>\n",
       "      <th>min</th>\n",
       "      <td>1.000000</td>\n",
       "    </tr>\n",
       "    <tr>\n",
       "      <th>25%</th>\n",
       "      <td>33.750000</td>\n",
       "    </tr>\n",
       "    <tr>\n",
       "      <th>50%</th>\n",
       "      <td>152.000000</td>\n",
       "    </tr>\n",
       "    <tr>\n",
       "      <th>75%</th>\n",
       "      <td>886.000000</td>\n",
       "    </tr>\n",
       "    <tr>\n",
       "      <th>max</th>\n",
       "      <td>14414.000000</td>\n",
       "    </tr>\n",
       "  </tbody>\n",
       "</table>\n",
       "</div>"
      ],
      "text/plain": [
       "              count\n",
       "count    152.000000\n",
       "mean    1119.394737\n",
       "std     2312.446550\n",
       "min        1.000000\n",
       "25%       33.750000\n",
       "50%      152.000000\n",
       "75%      886.000000\n",
       "max    14414.000000"
      ]
     },
     "execution_count": 108,
     "metadata": {},
     "output_type": "execute_result"
    }
   ],
   "source": [
    "sorted_categories_df.describe()"
   ]
  },
  {
   "cell_type": "code",
   "execution_count": 178,
   "metadata": {
    "collapsed": false
   },
   "outputs": [
    {
     "data": {
      "text/plain": [
       "<matplotlib.text.Text at 0x131a66050>"
      ]
     },
     "execution_count": 178,
     "metadata": {},
     "output_type": "execute_result"
    },
    {
     "data": {
      "image/png": "[encoded data removed]",
      "text/plain": [
       "<matplotlib.figure.Figure at 0x1ef8a3f90>"
      ]
     },
     "metadata": {},
     "output_type": "display_data"
    }
   ],
   "source": [
    "sorted_categories_df[sorted_categories_df.index.str.startswith('cs.') == True] \\\n",
    ".plot(kind='bar', figsize=(10, 6)).set_title('Count of papers per Computer Science category')"
   ]
  },
  {
   "cell_type": "code",
   "execution_count": 109,
   "metadata": {
    "collapsed": false
   },
   "outputs": [
    {
     "data": {
      "text/html": [
       "<div>\n",
       "<table border=\"1\" class=\"dataframe\">\n",
       "  <thead>\n",
       "    <tr style=\"text-align: right;\">\n",
       "      <th></th>\n",
       "      <th>count</th>\n",
       "    </tr>\n",
       "  </thead>\n",
       "  <tbody>\n",
       "    <tr>\n",
       "      <th>math.IT</th>\n",
       "      <td>14414</td>\n",
       "    </tr>\n",
       "    <tr>\n",
       "      <th>cs.IT</th>\n",
       "      <td>14414</td>\n",
       "    </tr>\n",
       "    <tr>\n",
       "      <th>cs.LG</th>\n",
       "      <td>10155</td>\n",
       "    </tr>\n",
       "    <tr>\n",
       "      <th>cs.CV</th>\n",
       "      <td>8055</td>\n",
       "    </tr>\n",
       "    <tr>\n",
       "      <th>cs.AI</th>\n",
       "      <td>6934</td>\n",
       "    </tr>\n",
       "    <tr>\n",
       "      <th>cs.DS</th>\n",
       "      <td>6456</td>\n",
       "    </tr>\n",
       "    <tr>\n",
       "      <th>stat.ML</th>\n",
       "      <td>5838</td>\n",
       "    </tr>\n",
       "    <tr>\n",
       "      <th>cs.SI</th>\n",
       "      <td>5761</td>\n",
       "    </tr>\n",
       "    <tr>\n",
       "      <th>cs.NI</th>\n",
       "      <td>5602</td>\n",
       "    </tr>\n",
       "    <tr>\n",
       "      <th>cs.LO</th>\n",
       "      <td>4607</td>\n",
       "    </tr>\n",
       "  </tbody>\n",
       "</table>\n",
       "</div>"
      ],
      "text/plain": [
       "         count\n",
       "math.IT  14414\n",
       "cs.IT    14414\n",
       "cs.LG    10155\n",
       "cs.CV     8055\n",
       "cs.AI     6934\n",
       "cs.DS     6456\n",
       "stat.ML   5838\n",
       "cs.SI     5761\n",
       "cs.NI     5602\n",
       "cs.LO     4607"
      ]
     },
     "execution_count": 109,
     "metadata": {},
     "output_type": "execute_result"
    }
   ],
   "source": [
    "sorted_categories_df[:10]"
   ]
  },
  {
   "cell_type": "code",
   "execution_count": 161,
   "metadata": {
    "collapsed": false
   },
   "outputs": [
    {
     "data": {
      "text/html": [
       "<div>\n",
       "<table border=\"1\" class=\"dataframe\">\n",
       "  <thead>\n",
       "    <tr style=\"text-align: right;\">\n",
       "      <th></th>\n",
       "      <th>count</th>\n",
       "    </tr>\n",
       "  </thead>\n",
       "  <tbody>\n",
       "    <tr>\n",
       "      <th>math.IT</th>\n",
       "      <td>14414</td>\n",
       "    </tr>\n",
       "    <tr>\n",
       "      <th>cs.IT</th>\n",
       "      <td>14414</td>\n",
       "    </tr>\n",
       "    <tr>\n",
       "      <th>cs.LG</th>\n",
       "      <td>10155</td>\n",
       "    </tr>\n",
       "    <tr>\n",
       "      <th>cs.CV</th>\n",
       "      <td>8055</td>\n",
       "    </tr>\n",
       "    <tr>\n",
       "      <th>cs.AI</th>\n",
       "      <td>6934</td>\n",
       "    </tr>\n",
       "    <tr>\n",
       "      <th>cs.DS</th>\n",
       "      <td>6456</td>\n",
       "    </tr>\n",
       "    <tr>\n",
       "      <th>stat.ML</th>\n",
       "      <td>5838</td>\n",
       "    </tr>\n",
       "    <tr>\n",
       "      <th>cs.SI</th>\n",
       "      <td>5761</td>\n",
       "    </tr>\n",
       "    <tr>\n",
       "      <th>cs.NI</th>\n",
       "      <td>5602</td>\n",
       "    </tr>\n",
       "    <tr>\n",
       "      <th>cs.LO</th>\n",
       "      <td>4607</td>\n",
       "    </tr>\n",
       "    <tr>\n",
       "      <th>physics.soc-ph</th>\n",
       "      <td>4593</td>\n",
       "    </tr>\n",
       "    <tr>\n",
       "      <th>cs.CR</th>\n",
       "      <td>4110</td>\n",
       "    </tr>\n",
       "    <tr>\n",
       "      <th>cs.SY</th>\n",
       "      <td>4058</td>\n",
       "    </tr>\n",
       "    <tr>\n",
       "      <th>cs.DC</th>\n",
       "      <td>3995</td>\n",
       "    </tr>\n",
       "    <tr>\n",
       "      <th>cs.DM</th>\n",
       "      <td>3911</td>\n",
       "    </tr>\n",
       "    <tr>\n",
       "      <th>cs.CL</th>\n",
       "      <td>3519</td>\n",
       "    </tr>\n",
       "    <tr>\n",
       "      <th>math.OC</th>\n",
       "      <td>3408</td>\n",
       "    </tr>\n",
       "    <tr>\n",
       "      <th>math.CO</th>\n",
       "      <td>3322</td>\n",
       "    </tr>\n",
       "    <tr>\n",
       "      <th>cs.CC</th>\n",
       "      <td>3116</td>\n",
       "    </tr>\n",
       "    <tr>\n",
       "      <th>cs.GT</th>\n",
       "      <td>2827</td>\n",
       "    </tr>\n",
       "    <tr>\n",
       "      <th>cs.CY</th>\n",
       "      <td>2676</td>\n",
       "    </tr>\n",
       "    <tr>\n",
       "      <th>cs.SE</th>\n",
       "      <td>2559</td>\n",
       "    </tr>\n",
       "    <tr>\n",
       "      <th>cs.NE</th>\n",
       "      <td>2554</td>\n",
       "    </tr>\n",
       "    <tr>\n",
       "      <th>cs.IR</th>\n",
       "      <td>2302</td>\n",
       "    </tr>\n",
       "    <tr>\n",
       "      <th>cs.DB</th>\n",
       "      <td>1924</td>\n",
       "    </tr>\n",
       "    <tr>\n",
       "      <th>cs.CG</th>\n",
       "      <td>1866</td>\n",
       "    </tr>\n",
       "    <tr>\n",
       "      <th>cs.RO</th>\n",
       "      <td>1714</td>\n",
       "    </tr>\n",
       "    <tr>\n",
       "      <th>cs.PL</th>\n",
       "      <td>1686</td>\n",
       "    </tr>\n",
       "    <tr>\n",
       "      <th>quant-ph</th>\n",
       "      <td>1652</td>\n",
       "    </tr>\n",
       "    <tr>\n",
       "      <th>cs.CE</th>\n",
       "      <td>1527</td>\n",
       "    </tr>\n",
       "    <tr>\n",
       "      <th>...</th>\n",
       "      <td>...</td>\n",
       "    </tr>\n",
       "    <tr>\n",
       "      <th>cond-mat.other</th>\n",
       "      <td>22</td>\n",
       "    </tr>\n",
       "    <tr>\n",
       "      <th>q-bio.TO</th>\n",
       "      <td>21</td>\n",
       "    </tr>\n",
       "    <tr>\n",
       "      <th>physics.hist-ph</th>\n",
       "      <td>19</td>\n",
       "    </tr>\n",
       "    <tr>\n",
       "      <th>cond-mat.str-el</th>\n",
       "      <td>19</td>\n",
       "    </tr>\n",
       "    <tr>\n",
       "      <th>math.QA</th>\n",
       "      <td>16</td>\n",
       "    </tr>\n",
       "    <tr>\n",
       "      <th>astro-ph.GA</th>\n",
       "      <td>15</td>\n",
       "    </tr>\n",
       "    <tr>\n",
       "      <th>physics.plasm-ph</th>\n",
       "      <td>14</td>\n",
       "    </tr>\n",
       "    <tr>\n",
       "      <th>nlin.SI</th>\n",
       "      <td>13</td>\n",
       "    </tr>\n",
       "    <tr>\n",
       "      <th>math.CV</th>\n",
       "      <td>12</td>\n",
       "    </tr>\n",
       "    <tr>\n",
       "      <th>math.GM</th>\n",
       "      <td>10</td>\n",
       "    </tr>\n",
       "    <tr>\n",
       "      <th>astro-ph.EP</th>\n",
       "      <td>9</td>\n",
       "    </tr>\n",
       "    <tr>\n",
       "      <th>physics.gen-ph</th>\n",
       "      <td>9</td>\n",
       "    </tr>\n",
       "    <tr>\n",
       "      <th>cond-mat.quant-gas</th>\n",
       "      <td>8</td>\n",
       "    </tr>\n",
       "    <tr>\n",
       "      <th>q-fin.PR</th>\n",
       "      <td>8</td>\n",
       "    </tr>\n",
       "    <tr>\n",
       "      <th>physics.space-ph</th>\n",
       "      <td>8</td>\n",
       "    </tr>\n",
       "    <tr>\n",
       "      <th>astro-ph.HE</th>\n",
       "      <td>7</td>\n",
       "    </tr>\n",
       "    <tr>\n",
       "      <th>physics.atom-ph</th>\n",
       "      <td>7</td>\n",
       "    </tr>\n",
       "    <tr>\n",
       "      <th>q-fin.MF</th>\n",
       "      <td>6</td>\n",
       "    </tr>\n",
       "    <tr>\n",
       "      <th>astro-ph</th>\n",
       "      <td>6</td>\n",
       "    </tr>\n",
       "    <tr>\n",
       "      <th>q-bio.SC</th>\n",
       "      <td>5</td>\n",
       "    </tr>\n",
       "    <tr>\n",
       "      <th>physics.acc-ph</th>\n",
       "      <td>4</td>\n",
       "    </tr>\n",
       "    <tr>\n",
       "      <th>nucl-ex</th>\n",
       "      <td>4</td>\n",
       "    </tr>\n",
       "    <tr>\n",
       "      <th>math.KT</th>\n",
       "      <td>4</td>\n",
       "    </tr>\n",
       "    <tr>\n",
       "      <th>math.SG</th>\n",
       "      <td>4</td>\n",
       "    </tr>\n",
       "    <tr>\n",
       "      <th>nucl-th</th>\n",
       "      <td>3</td>\n",
       "    </tr>\n",
       "    <tr>\n",
       "      <th>cond-mat.supr-con</th>\n",
       "      <td>3</td>\n",
       "    </tr>\n",
       "    <tr>\n",
       "      <th>q-bio</th>\n",
       "      <td>3</td>\n",
       "    </tr>\n",
       "    <tr>\n",
       "      <th>adap-org</th>\n",
       "      <td>2</td>\n",
       "    </tr>\n",
       "    <tr>\n",
       "      <th>cond-mat</th>\n",
       "      <td>1</td>\n",
       "    </tr>\n",
       "    <tr>\n",
       "      <th>physics.atm-clus</th>\n",
       "      <td>1</td>\n",
       "    </tr>\n",
       "  </tbody>\n",
       "</table>\n",
       "<p>152 rows × 1 columns</p>\n",
       "</div>"
      ],
      "text/plain": [
       "                    count\n",
       "math.IT             14414\n",
       "cs.IT               14414\n",
       "cs.LG               10155\n",
       "cs.CV                8055\n",
       "cs.AI                6934\n",
       "cs.DS                6456\n",
       "stat.ML              5838\n",
       "cs.SI                5761\n",
       "cs.NI                5602\n",
       "cs.LO                4607\n",
       "physics.soc-ph       4593\n",
       "cs.CR                4110\n",
       "cs.SY                4058\n",
       "cs.DC                3995\n",
       "cs.DM                3911\n",
       "cs.CL                3519\n",
       "math.OC              3408\n",
       "math.CO              3322\n",
       "cs.CC                3116\n",
       "cs.GT                2827\n",
       "cs.CY                2676\n",
       "cs.SE                2559\n",
       "cs.NE                2554\n",
       "cs.IR                2302\n",
       "cs.DB                1924\n",
       "cs.CG                1866\n",
       "cs.RO                1714\n",
       "cs.PL                1686\n",
       "quant-ph             1652\n",
       "cs.CE                1527\n",
       "...                   ...\n",
       "cond-mat.other         22\n",
       "q-bio.TO               21\n",
       "physics.hist-ph        19\n",
       "cond-mat.str-el        19\n",
       "math.QA                16\n",
       "astro-ph.GA            15\n",
       "physics.plasm-ph       14\n",
       "nlin.SI                13\n",
       "math.CV                12\n",
       "math.GM                10\n",
       "astro-ph.EP             9\n",
       "physics.gen-ph          9\n",
       "cond-mat.quant-gas      8\n",
       "q-fin.PR                8\n",
       "physics.space-ph        8\n",
       "astro-ph.HE             7\n",
       "physics.atom-ph         7\n",
       "q-fin.MF                6\n",
       "astro-ph                6\n",
       "q-bio.SC                5\n",
       "physics.acc-ph          4\n",
       "nucl-ex                 4\n",
       "math.KT                 4\n",
       "math.SG                 4\n",
       "nucl-th                 3\n",
       "cond-mat.supr-con       3\n",
       "q-bio                   3\n",
       "adap-org                2\n",
       "cond-mat                1\n",
       "physics.atm-clus        1\n",
       "\n",
       "[152 rows x 1 columns]"
      ]
     },
     "execution_count": 161,
     "metadata": {},
     "output_type": "execute_result"
    }
   ],
   "source": [
    "sorted_categories_df"
   ]
  },
  {
   "cell_type": "code",
   "execution_count": 114,
   "metadata": {
    "collapsed": false
   },
   "outputs": [
    {
     "data": {
      "text/plain": [
       "<matplotlib.text.Text at 0x1384f3b50>"
      ]
     },
     "execution_count": 114,
     "metadata": {},
     "output_type": "execute_result"
    },
    {
     "data": {
      "image/png": "[encoded data removed]",
      "text/plain": [
       "<matplotlib.figure.Figure at 0x13ac8c910>"
      ]
     },
     "metadata": {},
     "output_type": "display_data"
    }
   ],
   "source": [
    "sorted_categories_df[:50].plot(kind='bar', figsize=(10, 6)).set_title('Count of papers per category, first 50 categories')\n",
    "#Computer science categories\n",
    "# cs.AR\tComputer Science - Architecture\n",
    "# cs.AI\tComputer Science - Artificial Intelligence\n",
    "# cs.CL\tComputer Science - Computation and Language\n",
    "# cs.CC\tComputer Science - Computational Complexity\n",
    "# cs.CE\tComputer Science - Computational Engineering; Finance; and Science\n",
    "# cs.CG\tComputer Science - Computational Geometry\n",
    "# cs.GT\tComputer Science - Computer Science and Game Theory\n",
    "# cs.CV\tComputer Science - Computer Vision and Pattern Recognition\n",
    "# cs.CY\tComputer Science - Computers and Society\n",
    "# cs.CR\tComputer Science - Cryptography and Security\n",
    "# cs.DS\tComputer Science - Data Structures and Algorithms\n",
    "# cs.DB\tComputer Science - Databases\n",
    "# cs.DL\tComputer Science - Digital Libraries\n",
    "# cs.DM\tComputer Science - Discrete Mathematics\n",
    "# cs.DC\tComputer Science - Distributed; Parallel; and Cluster Computing\n",
    "# cs.GL\tComputer Science - General Literature\n",
    "# cs.GR\tComputer Science - Graphics\n",
    "# cs.HC\tComputer Science - Human-Computer Interaction\n",
    "# cs.IR\tComputer Science - Information Retrieval\n",
    "# cs.IT\tComputer Science - Information Theory\n",
    "# cs.LG\tComputer Science - Learning\n",
    "# cs.LO\tComputer Science - Logic in Computer Science\n",
    "# cs.MS\tComputer Science - Mathematical Software\n",
    "# cs.MA\tComputer Science - Multiagent Systems\n",
    "# cs.MM\tComputer Science - Multimedia\n",
    "# cs.NI\tComputer Science - Networking and Internet Architecture\n",
    "# cs.NE\tComputer Science - Neural and Evolutionary Computing\n",
    "# cs.NA\tComputer Science - Numerical Analysis\n",
    "# cs.OS\tComputer Science - Operating Systems\n",
    "# cs.OH\tComputer Science - Other\n",
    "# cs.PF\tComputer Science - Performance\n",
    "# cs.PL\tComputer Science - Programming Languages\n",
    "# cs.RO\tComputer Science - Robotics\n",
    "# cs.SE\tComputer Science - Software Engineering\n",
    "# cs.SD\tComputer Science - Sound\n",
    "# cs.SC\tComputer Science - Symbolic Computation"
   ]
  },
  {
   "cell_type": "code",
   "execution_count": 183,
   "metadata": {
    "collapsed": false
   },
   "outputs": [
    {
     "data": {
      "text/plain": [
       "[(u'algorithm', 66977),\n",
       " (u'model', 63981),\n",
       " (u'network', 60412),\n",
       " (u'problem', 60107),\n",
       " (u'propos', 51247),\n",
       " (u'base', 50325),\n",
       " (u'paper', 48036),\n",
       " (u'result', 47903),\n",
       " (u'data', 46829),\n",
       " (u'method', 44213)]"
      ]
     },
     "execution_count": 183,
     "metadata": {},
     "output_type": "execute_result"
    }
   ],
   "source": [
    "from gensim.utils import simple_preprocess\n",
    "from gensim.parsing.preprocessing import STOPWORDS\n",
    "import nltk.stem as stem\n",
    "\n",
    "porter = stem.PorterStemmer()\n",
    "def tokenize(text):\n",
    "    return [porter.stem(token) for token in simple_preprocess(text) if token not in STOPWORDS]\n",
    "\n",
    "tokenizer = RegexpTokenizer('\\w+|\\$[\\d\\.]+|\\S+')\n",
    "stops = [word for word in stopwords.words('english')]\n",
    "stops += [\"=\", \"->\", \".\", \",\"]\n",
    "\n",
    "word_counter = Counter()\n",
    "for index, row in df.iterrows():\n",
    "    tokens = tokenize(row['abstract'])\n",
    "    for t in tokens:\n",
    "        token = t.lower()\n",
    "        if token not in stops:\n",
    "            word_counter[token] += 1\n",
    "\n",
    "word_counter.most_common(n=10)"
   ]
  },
  {
   "cell_type": "code",
   "execution_count": 184,
   "metadata": {
    "collapsed": false
   },
   "outputs": [],
   "source": [
    "words_df = pd.DataFrame.from_dict(word_counter, orient='index')\n",
    "words_df.columns = ['count']"
   ]
  },
  {
   "cell_type": "code",
   "execution_count": 185,
   "metadata": {
    "collapsed": false
   },
   "outputs": [],
   "source": [
    "first_words_df = words_df.sort_values(by=['count'], ascending=False)[:50]"
   ]
  },
  {
   "cell_type": "code",
   "execution_count": 186,
   "metadata": {
    "collapsed": false
   },
   "outputs": [
    {
     "data": {
      "text/plain": [
       "<matplotlib.text.Text at 0x156625310>"
      ]
     },
     "execution_count": 186,
     "metadata": {},
     "output_type": "execute_result"
    },
    {
     "data": {
      "image/png": "[encoded data removed]",
      "text/plain": [
       "<matplotlib.figure.Figure at 0x1ea666b90>"
      ]
     },
     "metadata": {},
     "output_type": "display_data"
    }
   ],
   "source": [
    "first_words_df.plot(kind='bar', figsize=(10, 6)).set_title(\"First 50 most frequent words\")"
   ]
  },
  {
   "cell_type": "code",
   "execution_count": null,
   "metadata": {
    "collapsed": true
   },
   "outputs": [],
   "source": []
  }
 ],
 "metadata": {
  "kernelspec": {
   "display_name": "Python 2",
   "language": "python",
   "name": "python2"
  },
  "language_info": {
   "codemirror_mode": {
    "name": "ipython",
    "version": 2
   },
   "file_extension": ".py",
   "mimetype": "text/x-python",
   "name": "python",
   "nbconvert_exporter": "python",
   "pygments_lexer": "ipython2",
   "version": "2.7.12"
  }
 },
 "nbformat": 4,
 "nbformat_minor": 0
}
